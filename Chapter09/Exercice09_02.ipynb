{
 "cells": [
  {
   "cell_type": "markdown",
   "metadata": {},
   "source": [
    "\n",
    "# Exercice 9.2 from Practical astronomy\n",
    "\n",
    "=======================================================================\n",
    "\n",
    "- Sylvie Dagoret-Campagne\n",
    "- affliliation : IJCLAB/IN2P3/CNRS\n",
    "- creation date : May 10th 2020\n",
    "\n",
    "\n",
    "https://www.astro.ubc.ca/people/jvw/ASTROSTATS/pracstats_web_ed1.html#chapter9\n",
    "\n",
    "\n",
    "9.2 Variance of estimators for $w(\\theta)$ (D). Generate 20,000 data points randomly in the region $0^o < \\alpha < 5^o$, $0^o < \\delta < 5^o$. Estimate $w(\\theta)$ using the Natural estimator $w_1$, the Peebles estimator $w_2$, the Landy-Szalay estimator $w_3$ and the Hamilton estimator $w_4$. (Average $DR$ and $RR$ over say 10 comparison sets each of 20,000 random points). Plot the results as a function of $\\delta$ showing Poisson error bars $1/\\sqrt{DD}$. Comment on the results - which estimator is best?\n"
   ]
  },
  {
   "cell_type": "markdown",
   "metadata": {},
   "source": [
    "- Natural estimator\n",
    "$$\n",
    "w_1 = \\frac{r(r − 1)}{n(n − 1)}\\frac{DD}{RR}− 1\n",
    "$$"
   ]
  },
  {
   "cell_type": "markdown",
   "metadata": {},
   "source": [
    "- Peebles estimator\n",
    "$$\n",
    "w_2 =\\frac{2r}{(n − 1)}\\frac{DD}{DR}− 1\n",
    "$$"
   ]
  },
  {
   "cell_type": "markdown",
   "metadata": {},
   "source": [
    "- Landy-Szalay estimator\n",
    "$$\n",
    "w_3 = \\frac{r(r − 1)}{n(n − 1)}\n",
    "\\frac{DD}{RR}\n",
    "− \\frac{(r − 1)}{n}\\frac{DR}{RR}+ 1\n",
    "$$"
   ]
  },
  {
   "cell_type": "markdown",
   "metadata": {},
   "source": [
    "- Hamilton estimator\n",
    "$$\n",
    "w_4 =\n",
    "\\frac{4nr}\n",
    "{(n − 1)(r − 1)}\n",
    "\\frac{DD \\times RR}\n",
    "{(DR)^2}\n",
    "− 1\n",
    "$$"
   ]
  },
  {
   "cell_type": "code",
   "execution_count": 228,
   "metadata": {},
   "outputs": [
    {
     "name": "stdout",
     "output_type": "stream",
     "text": [
      "The autoreload extension is already loaded. To reload it, use:\n",
      "  %reload_ext autoreload\n"
     ]
    }
   ],
   "source": [
    "%load_ext autoreload\n",
    "%autoreload 2"
   ]
  },
  {
   "cell_type": "code",
   "execution_count": 229,
   "metadata": {},
   "outputs": [],
   "source": [
    "import matplotlib.pyplot as plt\n",
    "%matplotlib inline\n",
    "import sys\n",
    "import os\n",
    "import numpy as np\n",
    "from os import listdir\n",
    "import re"
   ]
  },
  {
   "cell_type": "code",
   "execution_count": 230,
   "metadata": {},
   "outputs": [],
   "source": [
    "import matplotlib\n",
    "import matplotlib.pyplot as plt\n",
    "import matplotlib.colors as colors\n",
    "import matplotlib.cm as cmx"
   ]
  },
  {
   "cell_type": "code",
   "execution_count": 231,
   "metadata": {},
   "outputs": [],
   "source": [
    "matplotlib.rcParams.update({'font.size': 15, 'lines.linewidth': 2, 'lines.markersize': 15})\n",
    "matplotlib.rcParams[\"axes.labelsize\"]=\"small\"\n",
    "matplotlib.rcParams[\"axes.linewidth\"]=2.0\n",
    "matplotlib.rcParams[\"xtick.major.size\"]=8\n",
    "matplotlib.rcParams[\"ytick.major.size\"]=8\n",
    "matplotlib.rcParams[\"ytick.minor.size\"]=5\n",
    "matplotlib.rcParams[\"xtick.labelsize\"]=\"large\"\n",
    "matplotlib.rcParams[\"ytick.labelsize\"]=\"large\"\n",
    "matplotlib.rcParams[\"figure.figsize\"]=(12,6)\n",
    "matplotlib.rcParams['axes.titlesize'] = 15\n",
    "matplotlib.rcParams['axes.titleweight'] = 'bold'\n",
    "#matplotlib.rcParams['axes.facecolor'] = 'blue'\n",
    "matplotlib.rcParams['xtick.direction'] = 'out'\n",
    "matplotlib.rcParams['ytick.direction'] = 'out'\n",
    "matplotlib.rcParams['lines.markeredgewidth'] = 0.3 # the line width around the marker symbol\n",
    "matplotlib.rcParams['lines.markersize'] = 10  # markersize, in points\n",
    "matplotlib.rcParams['grid.alpha'] = 1. # transparency, between 0.0 and 1.0\n",
    "matplotlib.rcParams['grid.linestyle'] = '-' # simple line\n",
    "matplotlib.rcParams['grid.linewidth'] = 0.4 # in points"
   ]
  },
  {
   "cell_type": "code",
   "execution_count": 232,
   "metadata": {},
   "outputs": [],
   "source": [
    "from astropy import units as u\n",
    "from astropy.coordinates import Angle"
   ]
  },
  {
   "cell_type": "code",
   "execution_count": 233,
   "metadata": {},
   "outputs": [],
   "source": [
    "from astropy.table import Table"
   ]
  },
  {
   "cell_type": "code",
   "execution_count": 234,
   "metadata": {},
   "outputs": [],
   "source": [
    "import pandas as pd"
   ]
  },
  {
   "cell_type": "code",
   "execution_count": 235,
   "metadata": {},
   "outputs": [],
   "source": [
    "import time\n",
    "from datetime import datetime,date\n",
    "import dateutil.parser"
   ]
  },
  {
   "cell_type": "code",
   "execution_count": 236,
   "metadata": {},
   "outputs": [],
   "source": [
    "today = date.today()\n",
    "string_date=today.strftime(\"%Y-%m-%d\")"
   ]
  },
  {
   "cell_type": "markdown",
   "metadata": {},
   "source": [
    "# Configuration"
   ]
  },
  {
   "cell_type": "markdown",
   "metadata": {},
   "source": [
    "## Data"
   ]
  },
  {
   "cell_type": "code",
   "execution_count": 237,
   "metadata": {},
   "outputs": [],
   "source": [
    "file_data=\"Ex9_2_data.xlsx\""
   ]
  },
  {
   "cell_type": "code",
   "execution_count": 238,
   "metadata": {},
   "outputs": [],
   "source": [
    "df=pd.read_excel(file_data,header=2)"
   ]
  },
  {
   "cell_type": "code",
   "execution_count": 239,
   "metadata": {},
   "outputs": [
    {
     "data": {
      "text/html": [
       "<div>\n",
       "<style scoped>\n",
       "    .dataframe tbody tr th:only-of-type {\n",
       "        vertical-align: middle;\n",
       "    }\n",
       "\n",
       "    .dataframe tbody tr th {\n",
       "        vertical-align: top;\n",
       "    }\n",
       "\n",
       "    .dataframe thead th {\n",
       "        text-align: right;\n",
       "    }\n",
       "</style>\n",
       "<table border=\"1\" class=\"dataframe\">\n",
       "  <thead>\n",
       "    <tr style=\"text-align: right;\">\n",
       "      <th></th>\n",
       "      <th>ra1</th>\n",
       "      <th>dec1</th>\n",
       "      <th>ra2</th>\n",
       "      <th>dec2</th>\n",
       "      <th>ra3</th>\n",
       "      <th>dec3</th>\n",
       "      <th>ra4</th>\n",
       "      <th>dec4</th>\n",
       "      <th>ra5</th>\n",
       "      <th>dec5</th>\n",
       "    </tr>\n",
       "  </thead>\n",
       "  <tbody>\n",
       "    <tr>\n",
       "      <th>0</th>\n",
       "      <td>0.2481</td>\n",
       "      <td>1.6859</td>\n",
       "      <td>0.0882</td>\n",
       "      <td>4.6088</td>\n",
       "      <td>0.0513</td>\n",
       "      <td>2.3210</td>\n",
       "      <td>0.0286</td>\n",
       "      <td>4.3367</td>\n",
       "      <td>0.0608</td>\n",
       "      <td>1.9619</td>\n",
       "    </tr>\n",
       "    <tr>\n",
       "      <th>1</th>\n",
       "      <td>0.0240</td>\n",
       "      <td>2.9128</td>\n",
       "      <td>0.0316</td>\n",
       "      <td>1.8475</td>\n",
       "      <td>0.0816</td>\n",
       "      <td>0.4579</td>\n",
       "      <td>0.1422</td>\n",
       "      <td>1.8168</td>\n",
       "      <td>0.0631</td>\n",
       "      <td>2.7723</td>\n",
       "    </tr>\n",
       "    <tr>\n",
       "      <th>2</th>\n",
       "      <td>0.1356</td>\n",
       "      <td>2.2626</td>\n",
       "      <td>0.1471</td>\n",
       "      <td>3.9426</td>\n",
       "      <td>0.3307</td>\n",
       "      <td>1.7644</td>\n",
       "      <td>0.3245</td>\n",
       "      <td>3.8198</td>\n",
       "      <td>0.2750</td>\n",
       "      <td>3.4797</td>\n",
       "    </tr>\n",
       "    <tr>\n",
       "      <th>3</th>\n",
       "      <td>0.1168</td>\n",
       "      <td>3.8142</td>\n",
       "      <td>0.1651</td>\n",
       "      <td>2.3955</td>\n",
       "      <td>0.1391</td>\n",
       "      <td>1.0369</td>\n",
       "      <td>0.2946</td>\n",
       "      <td>0.9607</td>\n",
       "      <td>0.3214</td>\n",
       "      <td>3.9790</td>\n",
       "    </tr>\n",
       "    <tr>\n",
       "      <th>4</th>\n",
       "      <td>0.2379</td>\n",
       "      <td>0.8160</td>\n",
       "      <td>0.3231</td>\n",
       "      <td>2.2251</td>\n",
       "      <td>0.2087</td>\n",
       "      <td>4.9041</td>\n",
       "      <td>0.2938</td>\n",
       "      <td>3.1325</td>\n",
       "      <td>0.2186</td>\n",
       "      <td>2.0389</td>\n",
       "    </tr>\n",
       "    <tr>\n",
       "      <th>...</th>\n",
       "      <td>...</td>\n",
       "      <td>...</td>\n",
       "      <td>...</td>\n",
       "      <td>...</td>\n",
       "      <td>...</td>\n",
       "      <td>...</td>\n",
       "      <td>...</td>\n",
       "      <td>...</td>\n",
       "      <td>...</td>\n",
       "      <td>...</td>\n",
       "    </tr>\n",
       "    <tr>\n",
       "      <th>3995</th>\n",
       "      <td>0.2973</td>\n",
       "      <td>3.3146</td>\n",
       "      <td>0.3295</td>\n",
       "      <td>0.8261</td>\n",
       "      <td>0.1113</td>\n",
       "      <td>1.5342</td>\n",
       "      <td>0.0463</td>\n",
       "      <td>2.6163</td>\n",
       "      <td>0.2847</td>\n",
       "      <td>3.7272</td>\n",
       "    </tr>\n",
       "    <tr>\n",
       "      <th>3996</th>\n",
       "      <td>0.2506</td>\n",
       "      <td>2.0404</td>\n",
       "      <td>0.2046</td>\n",
       "      <td>2.8135</td>\n",
       "      <td>0.1178</td>\n",
       "      <td>1.5804</td>\n",
       "      <td>0.1541</td>\n",
       "      <td>0.9717</td>\n",
       "      <td>0.1751</td>\n",
       "      <td>1.4077</td>\n",
       "    </tr>\n",
       "    <tr>\n",
       "      <th>3997</th>\n",
       "      <td>0.1780</td>\n",
       "      <td>4.1677</td>\n",
       "      <td>0.0225</td>\n",
       "      <td>3.1819</td>\n",
       "      <td>0.1727</td>\n",
       "      <td>1.3299</td>\n",
       "      <td>0.0666</td>\n",
       "      <td>1.5551</td>\n",
       "      <td>0.2778</td>\n",
       "      <td>4.6340</td>\n",
       "    </tr>\n",
       "    <tr>\n",
       "      <th>3998</th>\n",
       "      <td>0.0988</td>\n",
       "      <td>0.2636</td>\n",
       "      <td>0.3246</td>\n",
       "      <td>0.8955</td>\n",
       "      <td>0.0550</td>\n",
       "      <td>1.7725</td>\n",
       "      <td>0.0874</td>\n",
       "      <td>4.6654</td>\n",
       "      <td>0.2728</td>\n",
       "      <td>4.0375</td>\n",
       "    </tr>\n",
       "    <tr>\n",
       "      <th>3999</th>\n",
       "      <td>0.2963</td>\n",
       "      <td>1.3998</td>\n",
       "      <td>0.2077</td>\n",
       "      <td>3.8834</td>\n",
       "      <td>0.0961</td>\n",
       "      <td>0.1129</td>\n",
       "      <td>0.0058</td>\n",
       "      <td>3.8223</td>\n",
       "      <td>0.1226</td>\n",
       "      <td>0.7365</td>\n",
       "    </tr>\n",
       "  </tbody>\n",
       "</table>\n",
       "<p>4000 rows × 10 columns</p>\n",
       "</div>"
      ],
      "text/plain": [
       "         ra1    dec1     ra2    dec2     ra3    dec3     ra4    dec4     ra5  \\\n",
       "0     0.2481  1.6859  0.0882  4.6088  0.0513  2.3210  0.0286  4.3367  0.0608   \n",
       "1     0.0240  2.9128  0.0316  1.8475  0.0816  0.4579  0.1422  1.8168  0.0631   \n",
       "2     0.1356  2.2626  0.1471  3.9426  0.3307  1.7644  0.3245  3.8198  0.2750   \n",
       "3     0.1168  3.8142  0.1651  2.3955  0.1391  1.0369  0.2946  0.9607  0.3214   \n",
       "4     0.2379  0.8160  0.3231  2.2251  0.2087  4.9041  0.2938  3.1325  0.2186   \n",
       "...      ...     ...     ...     ...     ...     ...     ...     ...     ...   \n",
       "3995  0.2973  3.3146  0.3295  0.8261  0.1113  1.5342  0.0463  2.6163  0.2847   \n",
       "3996  0.2506  2.0404  0.2046  2.8135  0.1178  1.5804  0.1541  0.9717  0.1751   \n",
       "3997  0.1780  4.1677  0.0225  3.1819  0.1727  1.3299  0.0666  1.5551  0.2778   \n",
       "3998  0.0988  0.2636  0.3246  0.8955  0.0550  1.7725  0.0874  4.6654  0.2728   \n",
       "3999  0.2963  1.3998  0.2077  3.8834  0.0961  0.1129  0.0058  3.8223  0.1226   \n",
       "\n",
       "        dec5  \n",
       "0     1.9619  \n",
       "1     2.7723  \n",
       "2     3.4797  \n",
       "3     3.9790  \n",
       "4     2.0389  \n",
       "...      ...  \n",
       "3995  3.7272  \n",
       "3996  1.4077  \n",
       "3997  4.6340  \n",
       "3998  4.0375  \n",
       "3999  0.7365  \n",
       "\n",
       "[4000 rows x 10 columns]"
      ]
     },
     "execution_count": 239,
     "metadata": {},
     "output_type": "execute_result"
    }
   ],
   "source": [
    "df"
   ]
  },
  {
   "cell_type": "code",
   "execution_count": 240,
   "metadata": {},
   "outputs": [],
   "source": [
    "# right ascenssion in hours\n",
    "df1=pd.concat([df[\"ra1\"], df[\"ra2\"],df[\"ra3\"],df[\"ra4\"],df[\"ra5\"]],axis=0)"
   ]
  },
  {
   "cell_type": "code",
   "execution_count": 241,
   "metadata": {},
   "outputs": [],
   "source": [
    "# declination in degrees\n",
    "df2=pd.concat([df[\"dec1\"], df[\"dec2\"],df[\"dec3\"],df[\"dec4\"],df[\"dec5\"]],axis=0)"
   ]
  },
  {
   "cell_type": "code",
   "execution_count": 242,
   "metadata": {},
   "outputs": [],
   "source": [
    "# use Angle to convert into degrees\n",
    "myra=Angle(df1.values,unit=\"hour\")"
   ]
  },
  {
   "cell_type": "code",
   "execution_count": 243,
   "metadata": {},
   "outputs": [
    {
     "data": {
      "text/plain": [
       "array([3.7215, 0.36  , 2.034 , ..., 4.167 , 4.092 , 1.839 ])"
      ]
     },
     "execution_count": 243,
     "metadata": {},
     "output_type": "execute_result"
    }
   ],
   "source": [
    "myra.degree"
   ]
  },
  {
   "cell_type": "code",
   "execution_count": 244,
   "metadata": {},
   "outputs": [],
   "source": [
    "df_data=pd.DataFrame()"
   ]
  },
  {
   "cell_type": "code",
   "execution_count": 245,
   "metadata": {},
   "outputs": [],
   "source": [
    "df_data[\"ra\"]=myra.degree  # convert right ascenssion into degrees\n",
    "df_data[\"dec\"]=df2.values  # keep declination into degrees"
   ]
  },
  {
   "cell_type": "code",
   "execution_count": 246,
   "metadata": {},
   "outputs": [],
   "source": [
    "df_data=df_data.iloc[0:5000]"
   ]
  },
  {
   "cell_type": "code",
   "execution_count": 247,
   "metadata": {},
   "outputs": [],
   "source": [
    "Nobj=len(df_data)\n",
    "array_shape=df_data.shape"
   ]
  },
  {
   "cell_type": "code",
   "execution_count": 273,
   "metadata": {},
   "outputs": [
    {
     "data": {
      "text/plain": [
       "<Figure size 720x720 with 0 Axes>"
      ]
     },
     "metadata": {},
     "output_type": "display_data"
    },
    {
     "data": {
      "image/png": "[encoded data removed]",
      "text/plain": [
       "<Figure size 864x864 with 1 Axes>"
      ]
     },
     "metadata": {
      "needs_background": "light"
     },
     "output_type": "display_data"
    }
   ],
   "source": [
    "plt.figure(figsize=(10,10))\n",
    "ax=df_data.plot.scatter(\"ra\",\"dec\",marker='.',s=0.5,c='DarkBlue',title=\"sky view\",figsize=(12,12))\n",
    "ax.set_xlabel(\"ra (degree)\")\n",
    "ax.set_ylabel(\"dec (degree)\")\n",
    "ax.grid()"
   ]
  },
  {
   "cell_type": "markdown",
   "metadata": {},
   "source": [
    "# Generate random array"
   ]
  },
  {
   "cell_type": "code",
   "execution_count": 249,
   "metadata": {},
   "outputs": [],
   "source": [
    "NBREAL=10\n",
    "all_randomsky=[]\n",
    "for ir in np.arange(NBREAL): \n",
    "    random_sky=np.random.uniform(0,5,array_shape)\n",
    "    all_randomsky.append(random_sky)"
   ]
  },
  {
   "cell_type": "code",
   "execution_count": 250,
   "metadata": {},
   "outputs": [],
   "source": [
    "df_n=pd.DataFrame()"
   ]
  },
  {
   "cell_type": "code",
   "execution_count": 251,
   "metadata": {},
   "outputs": [],
   "source": [
    "df_n[\"ra\"]=random_sky[:,0]\n",
    "df_n[\"dec\"]=random_sky[:,1]"
   ]
  },
  {
   "cell_type": "markdown",
   "metadata": {},
   "source": [
    "# Correlation function"
   ]
  },
  {
   "cell_type": "code",
   "execution_count": 252,
   "metadata": {},
   "outputs": [],
   "source": [
    "FLAG_FIGFILE=False"
   ]
  },
  {
   "cell_type": "markdown",
   "metadata": {},
   "source": [
    "## correlation computation config"
   ]
  },
  {
   "cell_type": "code",
   "execution_count": 253,
   "metadata": {},
   "outputs": [],
   "source": [
    "ra0=0\n",
    "dec0=0"
   ]
  },
  {
   "cell_type": "code",
   "execution_count": 254,
   "metadata": {},
   "outputs": [],
   "source": [
    "def distance(ra,dec):\n",
    "    return np.sqrt((ra-ra0)**2+(dec-dec0)**2)"
   ]
  },
  {
   "cell_type": "code",
   "execution_count": 255,
   "metadata": {},
   "outputs": [],
   "source": [
    "def dist_row(row):\n",
    "    return distance(row[\"ra\"],row[\"dec\"])"
   ]
  },
  {
   "cell_type": "code",
   "execution_count": 256,
   "metadata": {},
   "outputs": [
    {
     "data": {
      "text/plain": [
       "0       4.085563\n",
       "1       2.934962\n",
       "2       3.042452\n",
       "3       4.197336\n",
       "4       3.660608\n",
       "          ...   \n",
       "4995    2.370951\n",
       "4996    3.137552\n",
       "4997    4.366014\n",
       "4998    2.898871\n",
       "4999    5.257416\n",
       "Length: 5000, dtype: float64"
      ]
     },
     "execution_count": 256,
     "metadata": {},
     "output_type": "execute_result"
    }
   ],
   "source": [
    "df_data.apply(dist_row, axis=1)"
   ]
  },
  {
   "cell_type": "markdown",
   "metadata": {},
   "source": [
    "## Histogram config"
   ]
  },
  {
   "cell_type": "code",
   "execution_count": 257,
   "metadata": {},
   "outputs": [],
   "source": [
    "THETAS=np.arange(0,10,0.05) \n",
    "NBINS=len(THETAS)-1\n",
    "BINSIZE=(THETAS[-1]-THETAS[0])/NBINS"
   ]
  },
  {
   "cell_type": "code",
   "execution_count": 258,
   "metadata": {},
   "outputs": [],
   "source": [
    "BINSTART=THETAS[0]\n",
    "BINSTOP=THETAS[-1]+BINSIZE\n",
    "NBINS+=1"
   ]
  },
  {
   "cell_type": "markdown",
   "metadata": {},
   "source": [
    "## DD"
   ]
  },
  {
   "cell_type": "code",
   "execution_count": 259,
   "metadata": {},
   "outputs": [
    {
     "data": {
      "text/html": [
       "<div>\n",
       "<style scoped>\n",
       "    .dataframe tbody tr th:only-of-type {\n",
       "        vertical-align: middle;\n",
       "    }\n",
       "\n",
       "    .dataframe tbody tr th {\n",
       "        vertical-align: top;\n",
       "    }\n",
       "\n",
       "    .dataframe thead th {\n",
       "        text-align: right;\n",
       "    }\n",
       "</style>\n",
       "<table border=\"1\" class=\"dataframe\">\n",
       "  <thead>\n",
       "    <tr style=\"text-align: right;\">\n",
       "      <th></th>\n",
       "      <th>ra</th>\n",
       "      <th>dec</th>\n",
       "    </tr>\n",
       "  </thead>\n",
       "  <tbody>\n",
       "    <tr>\n",
       "      <th>0</th>\n",
       "      <td>3.7215</td>\n",
       "      <td>1.6859</td>\n",
       "    </tr>\n",
       "    <tr>\n",
       "      <th>1</th>\n",
       "      <td>0.3600</td>\n",
       "      <td>2.9128</td>\n",
       "    </tr>\n",
       "    <tr>\n",
       "      <th>2</th>\n",
       "      <td>2.0340</td>\n",
       "      <td>2.2626</td>\n",
       "    </tr>\n",
       "    <tr>\n",
       "      <th>3</th>\n",
       "      <td>1.7520</td>\n",
       "      <td>3.8142</td>\n",
       "    </tr>\n",
       "    <tr>\n",
       "      <th>4</th>\n",
       "      <td>3.5685</td>\n",
       "      <td>0.8160</td>\n",
       "    </tr>\n",
       "    <tr>\n",
       "      <th>...</th>\n",
       "      <td>...</td>\n",
       "      <td>...</td>\n",
       "    </tr>\n",
       "    <tr>\n",
       "      <th>4995</th>\n",
       "      <td>1.4550</td>\n",
       "      <td>1.8720</td>\n",
       "    </tr>\n",
       "    <tr>\n",
       "      <th>4996</th>\n",
       "      <td>0.8415</td>\n",
       "      <td>3.0226</td>\n",
       "    </tr>\n",
       "    <tr>\n",
       "      <th>4997</th>\n",
       "      <td>3.9870</td>\n",
       "      <td>1.7793</td>\n",
       "    </tr>\n",
       "    <tr>\n",
       "      <th>4998</th>\n",
       "      <td>0.8970</td>\n",
       "      <td>2.7566</td>\n",
       "    </tr>\n",
       "    <tr>\n",
       "      <th>4999</th>\n",
       "      <td>4.2780</td>\n",
       "      <td>3.0560</td>\n",
       "    </tr>\n",
       "  </tbody>\n",
       "</table>\n",
       "<p>5000 rows × 2 columns</p>\n",
       "</div>"
      ],
      "text/plain": [
       "          ra     dec\n",
       "0     3.7215  1.6859\n",
       "1     0.3600  2.9128\n",
       "2     2.0340  2.2626\n",
       "3     1.7520  3.8142\n",
       "4     3.5685  0.8160\n",
       "...      ...     ...\n",
       "4995  1.4550  1.8720\n",
       "4996  0.8415  3.0226\n",
       "4997  3.9870  1.7793\n",
       "4998  0.8970  2.7566\n",
       "4999  4.2780  3.0560\n",
       "\n",
       "[5000 rows x 2 columns]"
      ]
     },
     "execution_count": 259,
     "metadata": {},
     "output_type": "execute_result"
    }
   ],
   "source": [
    "df3"
   ]
  },
  {
   "cell_type": "code",
   "execution_count": 260,
   "metadata": {},
   "outputs": [
    {
     "name": "stdout",
     "output_type": "stream",
     "text": [
      "0  ra0= 3.7214999999999994  dec0= 1.6859\n",
      "100  ra0= 3.2219999999999995  dec0= 1.812\n",
      "200  ra0= 0.3539999999999999  dec0= 1.4565\n",
      "300  ra0= 1.251  dec0= 0.3394\n",
      "400  ra0= 0.7919999999999999  dec0= 3.3385\n",
      "500  ra0= 2.151  dec0= 1.3123\n",
      "600  ra0= 4.3229999999999995  dec0= 1.8703\n",
      "700  ra0= 0.37949999999999995  dec0= 0.5338\n",
      "800  ra0= 0.5459999999999999  dec0= 2.0884\n",
      "900  ra0= 1.4159999999999997  dec0= 1.6975\n",
      "1000  ra0= 3.5354999999999994  dec0= 0.7826\n",
      "1100  ra0= 2.8529999999999998  dec0= 0.4639\n",
      "1200  ra0= 2.1645  dec0= 1.1069\n",
      "1300  ra0= 1.2269999999999999  dec0= 0.9106\n",
      "1400  ra0= 1.1655  dec0= 4.9214\n",
      "1500  ra0= 0.041999999999999996  dec0= 2.0517\n",
      "1600  ra0= 1.1504999999999999  dec0= 2.7001\n",
      "1700  ra0= 2.127  dec0= 1.8809\n",
      "1800  ra0= 0.5565  dec0= 4.1323\n",
      "1900  ra0= 1.0845  dec0= 2.541\n",
      "2000  ra0= 4.1775  dec0= 0.5228\n",
      "2100  ra0= 1.5374999999999996  dec0= 2.6396\n",
      "2200  ra0= 3.5144999999999995  dec0= 3.8563\n",
      "2300  ra0= 2.6234999999999995  dec0= 0.5372\n",
      "2400  ra0= 0.30299999999999994  dec0= 1.3715\n",
      "2500  ra0= 3.5714999999999995  dec0= 4.6099\n",
      "2600  ra0= 4.821  dec0= 3.2157\n",
      "2700  ra0= 3.4604999999999992  dec0= 2.0172\n",
      "2800  ra0= 1.4819999999999998  dec0= 1.5082\n",
      "2900  ra0= 3.5354999999999994  dec0= 3.7933\n",
      "3000  ra0= 2.4419999999999997  dec0= 2.197\n",
      "3100  ra0= 1.6874999999999998  dec0= 1.1276\n",
      "3200  ra0= 1.7385  dec0= 1.4972\n",
      "3300  ra0= 4.3065  dec0= 2.251\n",
      "3400  ra0= 4.741499999999999  dec0= 0.2508\n",
      "3500  ra0= 1.6274999999999997  dec0= 0.9234\n",
      "3600  ra0= 2.8919999999999995  dec0= 1.6946\n",
      "3700  ra0= 1.17  dec0= 3.419\n",
      "3800  ra0= 3.0089999999999995  dec0= 2.1458\n",
      "3900  ra0= 3.7379999999999995  dec0= 2.3669\n",
      "4000  ra0= 1.323  dec0= 4.6088\n",
      "4100  ra0= 4.973999999999999  dec0= 1.3834\n",
      "4200  ra0= 3.4724999999999997  dec0= 0.9424\n",
      "4300  ra0= 3.4004999999999996  dec0= 3.7079\n",
      "4400  ra0= 3.9059999999999997  dec0= 4.7427\n",
      "4500  ra0= 2.5244999999999997  dec0= 4.0105\n",
      "4600  ra0= 4.458  dec0= 2.2134\n",
      "4700  ra0= 2.8064999999999993  dec0= 4.5329\n",
      "4800  ra0= 2.9579999999999993  dec0= 4.1651\n",
      "4900  ra0= 2.4209999999999994  dec0= 1.3991\n"
     ]
    }
   ],
   "source": [
    "# loop on each element in the original dataframe\n",
    "df0=df_data.copy()\n",
    "\n",
    "df0.reset_index()\n",
    "df_data.reset_index()\n",
    "\n",
    "for index, row in df_data.iterrows():\n",
    "    \n",
    "    \n",
    "    # isolate the current element\n",
    "    ra0 = row['ra']\n",
    "    dec0 = row['dec']\n",
    "    \n",
    "    if index%100==0:\n",
    "        print(index,\" ra0=\",ra0,\" dec0=\",dec0)\n",
    "    \n",
    "    df0.drop(index,inplace=True) # erase one by one \n",
    "        \n",
    "    df0[\"dist\"] = df0.apply(dist_row, axis=1)\n",
    "    \n",
    "    if index==0:\n",
    "        histo=np.histogram(df0[\"dist\"].values,bins=NBINS,range=(BINSTART,BINSTOP))[0]\n",
    "    else:\n",
    "        histo+=np.histogram(df0[\"dist\"].values,bins=NBINS,range=(BINSTART,BINSTOP))[0]"
   ]
  },
  {
   "cell_type": "code",
   "execution_count": 261,
   "metadata": {},
   "outputs": [],
   "source": [
    "NDD=histo"
   ]
  },
  {
   "cell_type": "code",
   "execution_count": 262,
   "metadata": {},
   "outputs": [
    {
     "data": {
      "text/plain": [
       "array([  3913,  11708,  18982,  26593,  33974,  40456,  47586,  54135,\n",
       "        60979,  67082,  73431,  78732,  84256,  90207,  95481, 100669,\n",
       "       105298, 109994, 114228, 118943, 123138, 126809, 131134, 135125,\n",
       "       138744, 141800, 143710, 147107, 150355, 153689, 155956, 157598,\n",
       "       160096, 161844, 163506, 165031, 165779, 167299, 169332, 170312,\n",
       "       170954, 172364, 173650, 174025, 174111, 174713, 175080, 174644,\n",
       "       174845, 174059, 175020, 174800, 173805, 172916, 172819, 171671,\n",
       "       170561, 169817, 168662, 165602, 165156, 163041, 162092, 160681,\n",
       "       159377, 156830, 154138, 152463, 149976, 147284, 144191, 142002,\n",
       "       139158, 136291, 133343, 130648, 126285, 122984, 120581, 116591,\n",
       "       113370, 109740, 106929, 102071,  98153,  94984,  90569,  86203,\n",
       "        82432,  78361,  74123,  69581,  65572,  60906,  56170,  52080,\n",
       "        47495,  43062,  38856,  34604,  30898,  27798,  25019,  22893,\n",
       "        20910,  18998,  16819,  15373,  13690,  12345,  10900,   9932,\n",
       "         8896,   7879,   7036,   6211,   5441,   4785,   4070,   3527,\n",
       "         3033,   2581,   2130,   1782,   1528,   1284,    980,    857,\n",
       "          689,    510,    413,    296,    200,    135,     87,     36,\n",
       "           19,     14,      4,      0,      0,      0,      0,      0,\n",
       "            0,      0,      0,      0,      0,      0,      0,      0,\n",
       "            0,      0,      0,      0,      0,      0,      0,      0,\n",
       "            0,      0,      0,      0,      0,      0,      0,      0,\n",
       "            0,      0,      0,      0,      0,      0,      0,      0,\n",
       "            0,      0,      0,      0,      0,      0,      0,      0,\n",
       "            0,      0,      0,      0,      0,      0,      0,      0,\n",
       "            0,      0,      0,      0,      0,      0,      0,      0])"
      ]
     },
     "execution_count": 262,
     "metadata": {},
     "output_type": "execute_result"
    }
   ],
   "source": [
    "NDD"
   ]
  },
  {
   "cell_type": "code",
   "execution_count": 263,
   "metadata": {},
   "outputs": [],
   "source": [
    "filename_histo=string_date + \"_ndd_small.npy\"\n",
    "np.save(filename_histo, NDD)"
   ]
  },
  {
   "cell_type": "code",
   "execution_count": 264,
   "metadata": {},
   "outputs": [
    {
     "name": "stderr",
     "output_type": "stream",
     "text": [
      "/Users/dagoret/anaconda3/lib/python3.7/site-packages/ipykernel_launcher.py:12: UserWarning: Matplotlib is currently using module://ipykernel.pylab.backend_inline, which is a non-GUI backend, so cannot show the figure.\n",
      "  if sys.path[0] == '':\n"
     ]
    },
    {
     "data": {
      "image/png": "[encoded data removed]",
      "text/plain": [
       "<Figure size 864x432 with 1 Axes>"
      ]
     },
     "metadata": {
      "needs_background": "light"
     },
     "output_type": "display_data"
    }
   ],
   "source": [
    "fig, ax = plt.subplots()\n",
    "ax.bar(THETAS, NDD,facecolor=\"b\")\n",
    "#ax.set_yscale(\"log\")\n",
    "#ax.set_xscale(\"log\")\n",
    "ax.set_xlabel(\"$\\\\theta (deg)$\")\n",
    "ax.set_ylabel(\"$N_{DD}(\\\\theta)$\")\n",
    "ax.set_title(\"$N_{DD}(\\\\theta)$\")\n",
    "ax.grid()\n",
    "if FLAG_FIGFILE:\n",
    "    figname = string_date + \"_ndd_small.png\"\n",
    "    plt.savefig(figname)\n",
    "fig.show()"
   ]
  },
  {
   "cell_type": "markdown",
   "metadata": {},
   "source": [
    "## DR"
   ]
  },
  {
   "cell_type": "code",
   "execution_count": 265,
   "metadata": {},
   "outputs": [
    {
     "name": "stdout",
     "output_type": "stream",
     "text": [
      "0  ra0= 3.7214999999999994  dec0= 1.6859\n",
      "100  ra0= 3.2219999999999995  dec0= 1.812\n",
      "200  ra0= 0.3539999999999999  dec0= 1.4565\n",
      "300  ra0= 1.251  dec0= 0.3394\n",
      "400  ra0= 0.7919999999999999  dec0= 3.3385\n",
      "500  ra0= 2.151  dec0= 1.3123\n",
      "600  ra0= 4.3229999999999995  dec0= 1.8703\n",
      "700  ra0= 0.37949999999999995  dec0= 0.5338\n",
      "800  ra0= 0.5459999999999999  dec0= 2.0884\n",
      "900  ra0= 1.4159999999999997  dec0= 1.6975\n",
      "1000  ra0= 3.5354999999999994  dec0= 0.7826\n",
      "1100  ra0= 2.8529999999999998  dec0= 0.4639\n",
      "1200  ra0= 2.1645  dec0= 1.1069\n",
      "1300  ra0= 1.2269999999999999  dec0= 0.9106\n",
      "1400  ra0= 1.1655  dec0= 4.9214\n",
      "1500  ra0= 0.041999999999999996  dec0= 2.0517\n",
      "1600  ra0= 1.1504999999999999  dec0= 2.7001\n",
      "1700  ra0= 2.127  dec0= 1.8809\n",
      "1800  ra0= 0.5565  dec0= 4.1323\n",
      "1900  ra0= 1.0845  dec0= 2.541\n",
      "2000  ra0= 4.1775  dec0= 0.5228\n",
      "2100  ra0= 1.5374999999999996  dec0= 2.6396\n",
      "2200  ra0= 3.5144999999999995  dec0= 3.8563\n",
      "2300  ra0= 2.6234999999999995  dec0= 0.5372\n",
      "2400  ra0= 0.30299999999999994  dec0= 1.3715\n",
      "2500  ra0= 3.5714999999999995  dec0= 4.6099\n",
      "2600  ra0= 4.821  dec0= 3.2157\n",
      "2700  ra0= 3.4604999999999992  dec0= 2.0172\n",
      "2800  ra0= 1.4819999999999998  dec0= 1.5082\n",
      "2900  ra0= 3.5354999999999994  dec0= 3.7933\n",
      "3000  ra0= 2.4419999999999997  dec0= 2.197\n",
      "3100  ra0= 1.6874999999999998  dec0= 1.1276\n",
      "3200  ra0= 1.7385  dec0= 1.4972\n",
      "3300  ra0= 4.3065  dec0= 2.251\n",
      "3400  ra0= 4.741499999999999  dec0= 0.2508\n",
      "3500  ra0= 1.6274999999999997  dec0= 0.9234\n",
      "3600  ra0= 2.8919999999999995  dec0= 1.6946\n",
      "3700  ra0= 1.17  dec0= 3.419\n",
      "3800  ra0= 3.0089999999999995  dec0= 2.1458\n",
      "3900  ra0= 3.7379999999999995  dec0= 2.3669\n",
      "4000  ra0= 1.323  dec0= 4.6088\n",
      "4100  ra0= 4.973999999999999  dec0= 1.3834\n",
      "4200  ra0= 3.4724999999999997  dec0= 0.9424\n",
      "4300  ra0= 3.4004999999999996  dec0= 3.7079\n",
      "4400  ra0= 3.9059999999999997  dec0= 4.7427\n",
      "4500  ra0= 2.5244999999999997  dec0= 4.0105\n",
      "4600  ra0= 4.458  dec0= 2.2134\n",
      "4700  ra0= 2.8064999999999993  dec0= 4.5329\n",
      "4800  ra0= 2.9579999999999993  dec0= 4.1651\n",
      "4900  ra0= 2.4209999999999994  dec0= 1.3991\n"
     ]
    }
   ],
   "source": [
    "# loop on each element in the original dataframe\n",
    "df2=df_n.copy()\n",
    "for index, row in df_data.iterrows():\n",
    "    # isolate the current element\n",
    "    ra0 = row['ra']\n",
    "    dec0 = row['dec']\n",
    "    \n",
    "    if index%100==0:\n",
    "        print(index,\" ra0=\",ra0,\" dec0=\",dec0)\n",
    "        \n",
    "        \n",
    "    df2[\"dist\"] = df2.apply(dist_row, axis=1)\n",
    "    if index==0:\n",
    "        histo=np.histogram(df2[\"dist\"].values,bins=NBINS,range=(BINSTART,BINSTOP))[0]\n",
    "    else:\n",
    "        histo+=np.histogram(df2[\"dist\"].values,bins=NBINS,range=(BINSTART,BINSTOP))[0]"
   ]
  },
  {
   "cell_type": "code",
   "execution_count": 266,
   "metadata": {},
   "outputs": [],
   "source": [
    "NDR=histo"
   ]
  },
  {
   "cell_type": "code",
   "execution_count": 272,
   "metadata": {},
   "outputs": [],
   "source": [
    "filename_histo=string_date + \"_ndr_small.npy\"\n",
    "np.save(filename_histo, NDR)"
   ]
  },
  {
   "cell_type": "code",
   "execution_count": 267,
   "metadata": {},
   "outputs": [
    {
     "name": "stderr",
     "output_type": "stream",
     "text": [
      "/Users/dagoret/anaconda3/lib/python3.7/site-packages/ipykernel_launcher.py:12: UserWarning: Matplotlib is currently using module://ipykernel.pylab.backend_inline, which is a non-GUI backend, so cannot show the figure.\n",
      "  if sys.path[0] == '':\n"
     ]
    },
    {
     "data": {
      "image/png": "[encoded data removed]",
      "text/plain": [
       "<Figure size 864x432 with 1 Axes>"
      ]
     },
     "metadata": {
      "needs_background": "light"
     },
     "output_type": "display_data"
    }
   ],
   "source": [
    "fig, ax = plt.subplots()\n",
    "ax.bar(THETAS, NDR,facecolor=\"b\")\n",
    "#ax.set_yscale(\"log\")\n",
    "#ax.set_xscale(\"log\")\n",
    "ax.set_xlabel(\"$\\\\theta (rad)$\")\n",
    "ax.set_ylabel(\"$N_{DR}(\\\\theta)$\")\n",
    "ax.set_title(\"$N_{DR}(\\\\theta)$\")\n",
    "ax.grid()\n",
    "if FLAG_FIGFILE:\n",
    "    figname = string_date + \"_ndr_small.png\"\n",
    "    plt.savefig(figname)\n",
    "fig.show()"
   ]
  },
  {
   "cell_type": "markdown",
   "metadata": {},
   "source": [
    "## RR"
   ]
  },
  {
   "cell_type": "code",
   "execution_count": 268,
   "metadata": {},
   "outputs": [
    {
     "name": "stdout",
     "output_type": "stream",
     "text": [
      "0  ra0= 3.72734593567462  dec0= 3.751387516904291\n",
      "1000  ra0= 1.8757318655876298  dec0= 2.075030405610465\n",
      "2000  ra0= 1.8453610457473464  dec0= 3.180963043913456\n",
      "3000  ra0= 3.1468057430735024  dec0= 3.8129677990759987\n",
      "4000  ra0= 3.434014462588358  dec0= 3.195766475270652\n"
     ]
    }
   ],
   "source": [
    "# loop on each element in the original dataframe\n",
    "df0 = df_n.copy()\n",
    "\n",
    "df0.reset_index()\n",
    "df_n.reset_index()\n",
    "\n",
    "for index, row in df_n.iterrows():\n",
    "    # isolate the current element\n",
    "    ra0 = row['ra']\n",
    "    dec0 = row['dec']\n",
    "\n",
    "    if index % 1000 == 0:\n",
    "        print(index, \" ra0=\", ra0, \" dec0=\", dec0)\n",
    "\n",
    "    df0.drop(index, inplace=True)  # erase one by one\n",
    "\n",
    "    df0[\"dist\"] = df0.apply(dist_row, axis=1)\n",
    "    if index == 0:\n",
    "        histo = np.histogram(df0[\"dist\"].values, bins=NBINS, range=(BINSTART, BINSTOP))[0]\n",
    "    else:\n",
    "        histo += np.histogram(df0[\"dist\"].values, bins=NBINS, range=(BINSTART, BINSTOP))[0]\n"
   ]
  },
  {
   "cell_type": "code",
   "execution_count": 269,
   "metadata": {},
   "outputs": [],
   "source": [
    "NRR=histo"
   ]
  },
  {
   "cell_type": "code",
   "execution_count": 271,
   "metadata": {},
   "outputs": [],
   "source": [
    "filename_histo=string_date + \"_nrr_small.npy\"\n",
    "np.save(filename_histo, NRR)"
   ]
  },
  {
   "cell_type": "code",
   "execution_count": 270,
   "metadata": {},
   "outputs": [
    {
     "name": "stderr",
     "output_type": "stream",
     "text": [
      "/Users/dagoret/anaconda3/lib/python3.7/site-packages/ipykernel_launcher.py:12: UserWarning: Matplotlib is currently using module://ipykernel.pylab.backend_inline, which is a non-GUI backend, so cannot show the figure.\n",
      "  if sys.path[0] == '':\n"
     ]
    },
    {
     "data": {
      "image/png": "[encoded data removed]",
      "text/plain": [
       "<Figure size 864x432 with 1 Axes>"
      ]
     },
     "metadata": {
      "needs_background": "light"
     },
     "output_type": "display_data"
    }
   ],
   "source": [
    "fig, ax = plt.subplots()\n",
    "ax.bar(THETAS, NRR,facecolor=\"b\")\n",
    "#ax.set_yscale(\"log\")\n",
    "#ax.set_xscale(\"log\")\n",
    "ax.set_xlabel(\"$\\\\theta (rad)$\")\n",
    "ax.set_ylabel(\"$N_{RR}(\\\\theta)$\")\n",
    "ax.set_title(\"$N_{RR}(\\\\theta)$\")\n",
    "ax.grid()\n",
    "if FLAG_FIGFILE:\n",
    "    figname = string_date + \"_nrr_small.png\"\n",
    "    plt.savefig(figname)\n",
    "fig.show()"
   ]
  },
  {
   "cell_type": "markdown",
   "metadata": {},
   "source": [
    "# Correlation"
   ]
  },
  {
   "cell_type": "code",
   "execution_count": 275,
   "metadata": {},
   "outputs": [
    {
     "name": "stderr",
     "output_type": "stream",
     "text": [
      "/Users/dagoret/anaconda3/lib/python3.7/site-packages/ipykernel_launcher.py:1: RuntimeWarning: invalid value encountered in true_divide\n",
      "  \"\"\"Entry point for launching an IPython kernel.\n",
      "/Users/dagoret/anaconda3/lib/python3.7/site-packages/ipykernel_launcher.py:2: RuntimeWarning: invalid value encountered in true_divide\n",
      "  \n",
      "/Users/dagoret/anaconda3/lib/python3.7/site-packages/ipykernel_launcher.py:3: RuntimeWarning: invalid value encountered in true_divide\n",
      "  This is separate from the ipykernel package so we can avoid doing imports until\n",
      "/Users/dagoret/anaconda3/lib/python3.7/site-packages/ipykernel_launcher.py:4: RuntimeWarning: invalid value encountered in true_divide\n",
      "  after removing the cwd from sys.path.\n"
     ]
    }
   ],
   "source": [
    "w1=NDD/NRR-1\n",
    "w2=2*NDD/NDR-1\n",
    "w3=NDD/NRR-NDR/NRR+1\n",
    "w4=4*NDD*NRR/NDR**2-1"
   ]
  },
  {
   "cell_type": "code",
   "execution_count": 281,
   "metadata": {},
   "outputs": [
    {
     "data": {
      "text/plain": [
       "Text(0, 0.5, '$w(\\\\theta) \\\\; (rad)$')"
      ]
     },
     "execution_count": 281,
     "metadata": {},
     "output_type": "execute_result"
    },
    {
     "data": {
      "image/png": "[encoded data removed]",
      "text/plain": [
       "<Figure size 864x432 with 1 Axes>"
      ]
     },
     "metadata": {
      "needs_background": "light"
     },
     "output_type": "display_data"
    }
   ],
   "source": [
    "plt.plot(THETAS,w1,label=\"$w_1$\")\n",
    "plt.plot(THETAS,w2,label=\"$w_2$\")\n",
    "plt.plot(THETAS,w3,label=\"$w_3$\")\n",
    "plt.plot(THETAS,w4,label=\"$w_4$\")\n",
    "plt.legend()\n",
    "plt.ylim(-0.1,0.1)\n",
    "plt.grid()\n",
    "plt.xlabel(\"$\\\\theta (rad)$\")\n",
    "plt.ylabel(\"$w(\\\\theta) \\; (rad)$\")"
   ]
  },
  {
   "cell_type": "code",
   "execution_count": null,
   "metadata": {},
   "outputs": [],
   "source": []
  }
 ],
 "metadata": {
  "kernelspec": {
   "display_name": "Python 3",
   "language": "python",
   "name": "python3"
  },
  "language_info": {
   "codemirror_mode": {
    "name": "ipython",
    "version": 3
   },
   "file_extension": ".py",
   "mimetype": "text/x-python",
   "name": "python",
   "nbconvert_exporter": "python",
   "pygments_lexer": "ipython3",
   "version": "3.7.6"
  },
  "toc": {
   "nav_menu": {},
   "number_sections": true,
   "sideBar": true,
   "skip_h1_title": false,
   "toc_cell": false,
   "toc_position": {},
   "toc_section_display": "block",
   "toc_window_display": false
  }
 },
 "nbformat": 4,
 "nbformat_minor": 4
}
