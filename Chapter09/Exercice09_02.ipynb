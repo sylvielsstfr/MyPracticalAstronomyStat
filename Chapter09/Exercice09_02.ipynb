{
 "cells": [
  {
   "cell_type": "markdown",
   "metadata": {},
   "source": [
    "\n",
    "# Exercice 9.2 from Practical astronomy\n",
    "\n",
    "=======================================================================\n",
    "\n",
    "- Sylvie Dagoret-Campagne\n",
    "- affliliation : IJCLAB/IN2P3/CNRS\n",
    "- creation date : May 10th 2020\n",
    "\n",
    "\n",
    "https://www.astro.ubc.ca/people/jvw/ASTROSTATS/pracstats_web_ed1.html#chapter9\n",
    "\n",
    "\n",
    "9.2 Variance of estimators for $w(\\theta)$ (D). Generate 20,000 data points randomly in the region $0^o < \\alpha < 5^o$, $0^o < \\delta < 5^o$. Estimate $w(\\theta)$ using the Natural estimator $w_1$, the Peebles estimator $w_2$, the Landy-Szalay estimator $w_3$ and the Hamilton estimator $w_4$. (Average $DR$ and $RR$ over say 10 comparison sets each of 20,000 random points). Plot the results as a function of $\\delta$ showing Poisson error bars $1/\\sqrt{DD}$. Comment on the results - which estimator is best?\n"
   ]
  },
  {
   "cell_type": "markdown",
   "metadata": {},
   "source": [
    "- Natural estimator\n",
    "$$\n",
    "w_1 = \\frac{r(r − 1)}{n(n − 1)}\\frac{DD}{RR}− 1\n",
    "$$"
   ]
  },
  {
   "cell_type": "markdown",
   "metadata": {},
   "source": [
    "- Peebles estimator\n",
    "$$\n",
    "w_2 =\\frac{2r}{(n − 1)}\\frac{DD}{DR}− 1\n",
    "$$"
   ]
  },
  {
   "cell_type": "markdown",
   "metadata": {},
   "source": [
    "- Landy-Szalay estimator\n",
    "$$\n",
    "w_3 = \\frac{r(r − 1)}{n(n − 1)}\n",
    "\\frac{DD}{RR}\n",
    "− \\frac{(r − 1)}{n}\\frac{DR}{RR}+ 1\n",
    "$$"
   ]
  },
  {
   "cell_type": "markdown",
   "metadata": {},
   "source": [
    "- Hamilton estimator\n",
    "$$\n",
    "w_4 =\n",
    "\\frac{4nr}\n",
    "{(n − 1)(r − 1)}\n",
    "\\frac{DD \\times RR}\n",
    "{(DR)^2}\n",
    "− 1\n",
    "$$"
   ]
  },
  {
   "cell_type": "code",
   "execution_count": 114,
   "metadata": {},
   "outputs": [
    {
     "name": "stdout",
     "output_type": "stream",
     "text": [
      "The autoreload extension is already loaded. To reload it, use:\n",
      "  %reload_ext autoreload\n"
     ]
    }
   ],
   "source": [
    "%load_ext autoreload\n",
    "%autoreload 2"
   ]
  },
  {
   "cell_type": "code",
   "execution_count": 115,
   "metadata": {},
   "outputs": [],
   "source": [
    "import matplotlib.pyplot as plt\n",
    "%matplotlib inline\n",
    "import sys\n",
    "import os\n",
    "import numpy as np\n",
    "from os import listdir\n",
    "import re"
   ]
  },
  {
   "cell_type": "code",
   "execution_count": 116,
   "metadata": {},
   "outputs": [],
   "source": [
    "import matplotlib\n",
    "import matplotlib.pyplot as plt\n",
    "import matplotlib.colors as colors\n",
    "import matplotlib.cm as cmx"
   ]
  },
  {
   "cell_type": "code",
   "execution_count": 153,
   "metadata": {},
   "outputs": [],
   "source": [
    "matplotlib.rcParams.update({'font.size': 15, 'lines.linewidth': 2, 'lines.markersize': 15})\n",
    "matplotlib.rcParams[\"axes.labelsize\"]=\"small\"\n",
    "matplotlib.rcParams[\"axes.linewidth\"]=2.0\n",
    "matplotlib.rcParams[\"xtick.major.size\"]=8\n",
    "matplotlib.rcParams[\"ytick.major.size\"]=8\n",
    "matplotlib.rcParams[\"ytick.minor.size\"]=5\n",
    "matplotlib.rcParams[\"xtick.labelsize\"]=\"large\"\n",
    "matplotlib.rcParams[\"ytick.labelsize\"]=\"large\"\n",
    "matplotlib.rcParams[\"figure.figsize\"]=(12,6)\n",
    "matplotlib.rcParams['axes.titlesize'] = 15\n",
    "matplotlib.rcParams['axes.titleweight'] = 'bold'\n",
    "#matplotlib.rcParams['axes.facecolor'] = 'blue'\n",
    "matplotlib.rcParams['xtick.direction'] = 'out'\n",
    "matplotlib.rcParams['ytick.direction'] = 'out'\n",
    "matplotlib.rcParams['lines.markeredgewidth'] = 0.3 # the line width around the marker symbol\n",
    "matplotlib.rcParams['lines.markersize'] = 10  # markersize, in points\n",
    "matplotlib.rcParams['grid.alpha'] = 1. # transparency, between 0.0 and 1.0\n",
    "matplotlib.rcParams['grid.linestyle'] = '-' # simple line\n",
    "matplotlib.rcParams['grid.linewidth'] = 0.4 # in points"
   ]
  },
  {
   "cell_type": "code",
   "execution_count": 118,
   "metadata": {},
   "outputs": [],
   "source": [
    "from astropy import units as u\n",
    "from astropy.coordinates import Angle"
   ]
  },
  {
   "cell_type": "code",
   "execution_count": 119,
   "metadata": {},
   "outputs": [],
   "source": [
    "from astropy.table import Table"
   ]
  },
  {
   "cell_type": "code",
   "execution_count": 120,
   "metadata": {},
   "outputs": [],
   "source": [
    "import pandas as pd"
   ]
  },
  {
   "cell_type": "code",
   "execution_count": 121,
   "metadata": {},
   "outputs": [],
   "source": [
    "import time\n",
    "from datetime import datetime,date\n",
    "import dateutil.parser"
   ]
  },
  {
   "cell_type": "code",
   "execution_count": 122,
   "metadata": {},
   "outputs": [],
   "source": [
    "today = date.today()\n",
    "string_date=today.strftime(\"%Y-%m-%d\")"
   ]
  },
  {
   "cell_type": "markdown",
   "metadata": {},
   "source": [
    "# Configuration"
   ]
  },
  {
   "cell_type": "markdown",
   "metadata": {},
   "source": [
    "## Data"
   ]
  },
  {
   "cell_type": "code",
   "execution_count": 123,
   "metadata": {},
   "outputs": [],
   "source": [
    "file_data=\"Ex9_2_data.xlsx\""
   ]
  },
  {
   "cell_type": "code",
   "execution_count": 124,
   "metadata": {},
   "outputs": [],
   "source": [
    "df=pd.read_excel(file_data,header=2)"
   ]
  },
  {
   "cell_type": "code",
   "execution_count": 125,
   "metadata": {},
   "outputs": [
    {
     "data": {
      "text/html": [
       "<div>\n",
       "<style scoped>\n",
       "    .dataframe tbody tr th:only-of-type {\n",
       "        vertical-align: middle;\n",
       "    }\n",
       "\n",
       "    .dataframe tbody tr th {\n",
       "        vertical-align: top;\n",
       "    }\n",
       "\n",
       "    .dataframe thead th {\n",
       "        text-align: right;\n",
       "    }\n",
       "</style>\n",
       "<table border=\"1\" class=\"dataframe\">\n",
       "  <thead>\n",
       "    <tr style=\"text-align: right;\">\n",
       "      <th></th>\n",
       "      <th>ra1</th>\n",
       "      <th>dec1</th>\n",
       "      <th>ra2</th>\n",
       "      <th>dec2</th>\n",
       "      <th>ra3</th>\n",
       "      <th>dec3</th>\n",
       "      <th>ra4</th>\n",
       "      <th>dec4</th>\n",
       "      <th>ra5</th>\n",
       "      <th>dec5</th>\n",
       "    </tr>\n",
       "  </thead>\n",
       "  <tbody>\n",
       "    <tr>\n",
       "      <th>0</th>\n",
       "      <td>0.2481</td>\n",
       "      <td>1.6859</td>\n",
       "      <td>0.0882</td>\n",
       "      <td>4.6088</td>\n",
       "      <td>0.0513</td>\n",
       "      <td>2.3210</td>\n",
       "      <td>0.0286</td>\n",
       "      <td>4.3367</td>\n",
       "      <td>0.0608</td>\n",
       "      <td>1.9619</td>\n",
       "    </tr>\n",
       "    <tr>\n",
       "      <th>1</th>\n",
       "      <td>0.0240</td>\n",
       "      <td>2.9128</td>\n",
       "      <td>0.0316</td>\n",
       "      <td>1.8475</td>\n",
       "      <td>0.0816</td>\n",
       "      <td>0.4579</td>\n",
       "      <td>0.1422</td>\n",
       "      <td>1.8168</td>\n",
       "      <td>0.0631</td>\n",
       "      <td>2.7723</td>\n",
       "    </tr>\n",
       "    <tr>\n",
       "      <th>2</th>\n",
       "      <td>0.1356</td>\n",
       "      <td>2.2626</td>\n",
       "      <td>0.1471</td>\n",
       "      <td>3.9426</td>\n",
       "      <td>0.3307</td>\n",
       "      <td>1.7644</td>\n",
       "      <td>0.3245</td>\n",
       "      <td>3.8198</td>\n",
       "      <td>0.2750</td>\n",
       "      <td>3.4797</td>\n",
       "    </tr>\n",
       "    <tr>\n",
       "      <th>3</th>\n",
       "      <td>0.1168</td>\n",
       "      <td>3.8142</td>\n",
       "      <td>0.1651</td>\n",
       "      <td>2.3955</td>\n",
       "      <td>0.1391</td>\n",
       "      <td>1.0369</td>\n",
       "      <td>0.2946</td>\n",
       "      <td>0.9607</td>\n",
       "      <td>0.3214</td>\n",
       "      <td>3.9790</td>\n",
       "    </tr>\n",
       "    <tr>\n",
       "      <th>4</th>\n",
       "      <td>0.2379</td>\n",
       "      <td>0.8160</td>\n",
       "      <td>0.3231</td>\n",
       "      <td>2.2251</td>\n",
       "      <td>0.2087</td>\n",
       "      <td>4.9041</td>\n",
       "      <td>0.2938</td>\n",
       "      <td>3.1325</td>\n",
       "      <td>0.2186</td>\n",
       "      <td>2.0389</td>\n",
       "    </tr>\n",
       "    <tr>\n",
       "      <th>...</th>\n",
       "      <td>...</td>\n",
       "      <td>...</td>\n",
       "      <td>...</td>\n",
       "      <td>...</td>\n",
       "      <td>...</td>\n",
       "      <td>...</td>\n",
       "      <td>...</td>\n",
       "      <td>...</td>\n",
       "      <td>...</td>\n",
       "      <td>...</td>\n",
       "    </tr>\n",
       "    <tr>\n",
       "      <th>3995</th>\n",
       "      <td>0.2973</td>\n",
       "      <td>3.3146</td>\n",
       "      <td>0.3295</td>\n",
       "      <td>0.8261</td>\n",
       "      <td>0.1113</td>\n",
       "      <td>1.5342</td>\n",
       "      <td>0.0463</td>\n",
       "      <td>2.6163</td>\n",
       "      <td>0.2847</td>\n",
       "      <td>3.7272</td>\n",
       "    </tr>\n",
       "    <tr>\n",
       "      <th>3996</th>\n",
       "      <td>0.2506</td>\n",
       "      <td>2.0404</td>\n",
       "      <td>0.2046</td>\n",
       "      <td>2.8135</td>\n",
       "      <td>0.1178</td>\n",
       "      <td>1.5804</td>\n",
       "      <td>0.1541</td>\n",
       "      <td>0.9717</td>\n",
       "      <td>0.1751</td>\n",
       "      <td>1.4077</td>\n",
       "    </tr>\n",
       "    <tr>\n",
       "      <th>3997</th>\n",
       "      <td>0.1780</td>\n",
       "      <td>4.1677</td>\n",
       "      <td>0.0225</td>\n",
       "      <td>3.1819</td>\n",
       "      <td>0.1727</td>\n",
       "      <td>1.3299</td>\n",
       "      <td>0.0666</td>\n",
       "      <td>1.5551</td>\n",
       "      <td>0.2778</td>\n",
       "      <td>4.6340</td>\n",
       "    </tr>\n",
       "    <tr>\n",
       "      <th>3998</th>\n",
       "      <td>0.0988</td>\n",
       "      <td>0.2636</td>\n",
       "      <td>0.3246</td>\n",
       "      <td>0.8955</td>\n",
       "      <td>0.0550</td>\n",
       "      <td>1.7725</td>\n",
       "      <td>0.0874</td>\n",
       "      <td>4.6654</td>\n",
       "      <td>0.2728</td>\n",
       "      <td>4.0375</td>\n",
       "    </tr>\n",
       "    <tr>\n",
       "      <th>3999</th>\n",
       "      <td>0.2963</td>\n",
       "      <td>1.3998</td>\n",
       "      <td>0.2077</td>\n",
       "      <td>3.8834</td>\n",
       "      <td>0.0961</td>\n",
       "      <td>0.1129</td>\n",
       "      <td>0.0058</td>\n",
       "      <td>3.8223</td>\n",
       "      <td>0.1226</td>\n",
       "      <td>0.7365</td>\n",
       "    </tr>\n",
       "  </tbody>\n",
       "</table>\n",
       "<p>4000 rows × 10 columns</p>\n",
       "</div>"
      ],
      "text/plain": [
       "         ra1    dec1     ra2    dec2     ra3    dec3     ra4    dec4     ra5  \\\n",
       "0     0.2481  1.6859  0.0882  4.6088  0.0513  2.3210  0.0286  4.3367  0.0608   \n",
       "1     0.0240  2.9128  0.0316  1.8475  0.0816  0.4579  0.1422  1.8168  0.0631   \n",
       "2     0.1356  2.2626  0.1471  3.9426  0.3307  1.7644  0.3245  3.8198  0.2750   \n",
       "3     0.1168  3.8142  0.1651  2.3955  0.1391  1.0369  0.2946  0.9607  0.3214   \n",
       "4     0.2379  0.8160  0.3231  2.2251  0.2087  4.9041  0.2938  3.1325  0.2186   \n",
       "...      ...     ...     ...     ...     ...     ...     ...     ...     ...   \n",
       "3995  0.2973  3.3146  0.3295  0.8261  0.1113  1.5342  0.0463  2.6163  0.2847   \n",
       "3996  0.2506  2.0404  0.2046  2.8135  0.1178  1.5804  0.1541  0.9717  0.1751   \n",
       "3997  0.1780  4.1677  0.0225  3.1819  0.1727  1.3299  0.0666  1.5551  0.2778   \n",
       "3998  0.0988  0.2636  0.3246  0.8955  0.0550  1.7725  0.0874  4.6654  0.2728   \n",
       "3999  0.2963  1.3998  0.2077  3.8834  0.0961  0.1129  0.0058  3.8223  0.1226   \n",
       "\n",
       "        dec5  \n",
       "0     1.9619  \n",
       "1     2.7723  \n",
       "2     3.4797  \n",
       "3     3.9790  \n",
       "4     2.0389  \n",
       "...      ...  \n",
       "3995  3.7272  \n",
       "3996  1.4077  \n",
       "3997  4.6340  \n",
       "3998  4.0375  \n",
       "3999  0.7365  \n",
       "\n",
       "[4000 rows x 10 columns]"
      ]
     },
     "execution_count": 125,
     "metadata": {},
     "output_type": "execute_result"
    }
   ],
   "source": [
    "df"
   ]
  },
  {
   "cell_type": "code",
   "execution_count": 126,
   "metadata": {},
   "outputs": [],
   "source": [
    "# right ascenssion in hours\n",
    "df1=pd.concat([df[\"ra1\"], df[\"ra2\"],df[\"ra3\"],df[\"ra4\"],df[\"ra5\"]],axis=0)"
   ]
  },
  {
   "cell_type": "code",
   "execution_count": 127,
   "metadata": {},
   "outputs": [],
   "source": [
    "# declination in degrees\n",
    "df2=pd.concat([df[\"dec1\"], df[\"dec2\"],df[\"dec3\"],df[\"dec4\"],df[\"dec5\"]],axis=0)"
   ]
  },
  {
   "cell_type": "code",
   "execution_count": 128,
   "metadata": {},
   "outputs": [],
   "source": [
    "# use Angle to convert into degrees\n",
    "myra=Angle(df1.values,unit=\"hour\")"
   ]
  },
  {
   "cell_type": "code",
   "execution_count": 129,
   "metadata": {},
   "outputs": [
    {
     "data": {
      "text/plain": [
       "array([3.7215, 0.36  , 2.034 , ..., 4.167 , 4.092 , 1.839 ])"
      ]
     },
     "execution_count": 129,
     "metadata": {},
     "output_type": "execute_result"
    }
   ],
   "source": [
    "myra.degree"
   ]
  },
  {
   "cell_type": "code",
   "execution_count": 130,
   "metadata": {},
   "outputs": [],
   "source": [
    "df_data=pd.DataFrame()"
   ]
  },
  {
   "cell_type": "code",
   "execution_count": 131,
   "metadata": {},
   "outputs": [],
   "source": [
    "df_data[\"ra\"]=myra.degree  # convert right ascenssion into degrees\n",
    "df_data[\"dec\"]=df2.values  # keep declination into degrees"
   ]
  },
  {
   "cell_type": "code",
   "execution_count": 132,
   "metadata": {},
   "outputs": [],
   "source": [
    "df3=df_data.iloc[0:5000]"
   ]
  },
  {
   "cell_type": "code",
   "execution_count": 133,
   "metadata": {},
   "outputs": [],
   "source": [
    "Nobj=len(df3)\n",
    "array_shape=df3.shape"
   ]
  },
  {
   "cell_type": "code",
   "execution_count": 152,
   "metadata": {},
   "outputs": [
    {
     "data": {
      "text/plain": [
       "<Figure size 720x720 with 0 Axes>"
      ]
     },
     "metadata": {},
     "output_type": "display_data"
    },
    {
     "data": {
      "image/png": "[encoded data removed]",
      "text/plain": [
       "<Figure size 864x864 with 1 Axes>"
      ]
     },
     "metadata": {
      "needs_background": "light"
     },
     "output_type": "display_data"
    }
   ],
   "source": [
    "plt.figure(figsize=(10,10))\n",
    "ax=df3.plot.scatter(\"ra\",\"dec\",marker='.',s=0.5,c='DarkBlue',title=\"sky view\")\n",
    "ax.set_xlabel(\"ra (degree)\")\n",
    "ax.set_ylabel(\"dec (degree)\")\n",
    "ax.grid()"
   ]
  },
  {
   "cell_type": "markdown",
   "metadata": {},
   "source": [
    "# Generate random array"
   ]
  },
  {
   "cell_type": "code",
   "execution_count": 135,
   "metadata": {},
   "outputs": [],
   "source": [
    "NBREAL=10\n",
    "all_randomsky=[]\n",
    "for ir in np.arange(NBREAL): \n",
    "    random_sky=np.random.uniform(0,5,array_shape)\n",
    "    all_randomsky.append(random_sky)"
   ]
  },
  {
   "cell_type": "code",
   "execution_count": 136,
   "metadata": {},
   "outputs": [],
   "source": [
    "df_n=pd.DataFrame()"
   ]
  },
  {
   "cell_type": "code",
   "execution_count": 137,
   "metadata": {},
   "outputs": [],
   "source": [
    "df_n[\"ra\"]=random_sky[:,0]\n",
    "df_n[\"dec\"]=random_sky[:,1]"
   ]
  },
  {
   "cell_type": "markdown",
   "metadata": {},
   "source": [
    "# Correlation function"
   ]
  },
  {
   "cell_type": "code",
   "execution_count": 138,
   "metadata": {},
   "outputs": [],
   "source": [
    "FLAG_FIGFILE=False"
   ]
  },
  {
   "cell_type": "markdown",
   "metadata": {},
   "source": [
    "## correlation computation config"
   ]
  },
  {
   "cell_type": "code",
   "execution_count": 139,
   "metadata": {},
   "outputs": [],
   "source": [
    "ra0=0\n",
    "dec0=0"
   ]
  },
  {
   "cell_type": "code",
   "execution_count": 140,
   "metadata": {},
   "outputs": [],
   "source": [
    "def distance(ra,dec):\n",
    "    return np.sqrt((ra-ra0)**2+(dec-dec0)**2)"
   ]
  },
  {
   "cell_type": "code",
   "execution_count": 141,
   "metadata": {},
   "outputs": [],
   "source": [
    "def dist_row(row):\n",
    "    return distance(row[\"ra\"],row[\"dec\"])"
   ]
  },
  {
   "cell_type": "code",
   "execution_count": 142,
   "metadata": {},
   "outputs": [
    {
     "data": {
      "text/plain": [
       "0      4.085563\n",
       "1      2.934962\n",
       "2      3.042452\n",
       "3      4.197336\n",
       "4      3.660608\n",
       "         ...   \n",
       "995    2.279651\n",
       "996    5.290909\n",
       "997    3.862296\n",
       "998    2.709925\n",
       "999    2.045673\n",
       "Length: 1000, dtype: float64"
      ]
     },
     "execution_count": 142,
     "metadata": {},
     "output_type": "execute_result"
    }
   ],
   "source": [
    "df3.apply(dist_row, axis=1)"
   ]
  },
  {
   "cell_type": "markdown",
   "metadata": {},
   "source": [
    "## Histogram config"
   ]
  },
  {
   "cell_type": "code",
   "execution_count": 143,
   "metadata": {},
   "outputs": [],
   "source": [
    "THETAS=np.arange(0,10,0.05) \n",
    "NBINS=len(THETAS)-1\n",
    "BINSIZE=(THETAS[-1]-THETAS[0])/NBINS"
   ]
  },
  {
   "cell_type": "code",
   "execution_count": 144,
   "metadata": {},
   "outputs": [],
   "source": [
    "BINSTART=THETAS[0]\n",
    "BINSTOP=THETAS[-1]+BINSIZE\n",
    "NBINS+=1"
   ]
  },
  {
   "cell_type": "markdown",
   "metadata": {},
   "source": [
    "## DD"
   ]
  },
  {
   "cell_type": "code",
   "execution_count": 145,
   "metadata": {},
   "outputs": [
    {
     "data": {
      "text/html": [
       "<div>\n",
       "<style scoped>\n",
       "    .dataframe tbody tr th:only-of-type {\n",
       "        vertical-align: middle;\n",
       "    }\n",
       "\n",
       "    .dataframe tbody tr th {\n",
       "        vertical-align: top;\n",
       "    }\n",
       "\n",
       "    .dataframe thead th {\n",
       "        text-align: right;\n",
       "    }\n",
       "</style>\n",
       "<table border=\"1\" class=\"dataframe\">\n",
       "  <thead>\n",
       "    <tr style=\"text-align: right;\">\n",
       "      <th></th>\n",
       "      <th>ra</th>\n",
       "      <th>dec</th>\n",
       "    </tr>\n",
       "  </thead>\n",
       "  <tbody>\n",
       "    <tr>\n",
       "      <th>0</th>\n",
       "      <td>3.7215</td>\n",
       "      <td>1.6859</td>\n",
       "    </tr>\n",
       "    <tr>\n",
       "      <th>1</th>\n",
       "      <td>0.3600</td>\n",
       "      <td>2.9128</td>\n",
       "    </tr>\n",
       "    <tr>\n",
       "      <th>2</th>\n",
       "      <td>2.0340</td>\n",
       "      <td>2.2626</td>\n",
       "    </tr>\n",
       "    <tr>\n",
       "      <th>3</th>\n",
       "      <td>1.7520</td>\n",
       "      <td>3.8142</td>\n",
       "    </tr>\n",
       "    <tr>\n",
       "      <th>4</th>\n",
       "      <td>3.5685</td>\n",
       "      <td>0.8160</td>\n",
       "    </tr>\n",
       "    <tr>\n",
       "      <th>...</th>\n",
       "      <td>...</td>\n",
       "      <td>...</td>\n",
       "    </tr>\n",
       "    <tr>\n",
       "      <th>995</th>\n",
       "      <td>2.1525</td>\n",
       "      <td>0.7507</td>\n",
       "    </tr>\n",
       "    <tr>\n",
       "      <th>996</th>\n",
       "      <td>3.7155</td>\n",
       "      <td>3.7668</td>\n",
       "    </tr>\n",
       "    <tr>\n",
       "      <th>997</th>\n",
       "      <td>2.8110</td>\n",
       "      <td>2.6487</td>\n",
       "    </tr>\n",
       "    <tr>\n",
       "      <th>998</th>\n",
       "      <td>2.5125</td>\n",
       "      <td>1.0154</td>\n",
       "    </tr>\n",
       "    <tr>\n",
       "      <th>999</th>\n",
       "      <td>1.9335</td>\n",
       "      <td>0.6681</td>\n",
       "    </tr>\n",
       "  </tbody>\n",
       "</table>\n",
       "<p>1000 rows × 2 columns</p>\n",
       "</div>"
      ],
      "text/plain": [
       "         ra     dec\n",
       "0    3.7215  1.6859\n",
       "1    0.3600  2.9128\n",
       "2    2.0340  2.2626\n",
       "3    1.7520  3.8142\n",
       "4    3.5685  0.8160\n",
       "..      ...     ...\n",
       "995  2.1525  0.7507\n",
       "996  3.7155  3.7668\n",
       "997  2.8110  2.6487\n",
       "998  2.5125  1.0154\n",
       "999  1.9335  0.6681\n",
       "\n",
       "[1000 rows x 2 columns]"
      ]
     },
     "execution_count": 145,
     "metadata": {},
     "output_type": "execute_result"
    }
   ],
   "source": [
    "df3"
   ]
  },
  {
   "cell_type": "code",
   "execution_count": 146,
   "metadata": {},
   "outputs": [
    {
     "name": "stdout",
     "output_type": "stream",
     "text": [
      "0  ra0= 3.7214999999999994  dec0= 1.6859\n",
      "100  ra0= 3.2219999999999995  dec0= 1.812\n",
      "200  ra0= 0.3539999999999999  dec0= 1.4565\n",
      "300  ra0= 1.251  dec0= 0.3394\n",
      "400  ra0= 0.7919999999999999  dec0= 3.3385\n",
      "500  ra0= 2.151  dec0= 1.3123\n",
      "600  ra0= 4.3229999999999995  dec0= 1.8703\n",
      "700  ra0= 0.37949999999999995  dec0= 0.5338\n",
      "800  ra0= 0.5459999999999999  dec0= 2.0884\n",
      "900  ra0= 1.4159999999999997  dec0= 1.6975\n"
     ]
    }
   ],
   "source": [
    "# loop on each element in the original dataframe\n",
    "df0=df3.copy()\n",
    "for index, row in df3.iterrows():\n",
    "    \n",
    "    \n",
    "    # isolate the current element\n",
    "    ra0 = row['ra']\n",
    "    dec0 = row['dec']\n",
    "    \n",
    "    if index%100==0:\n",
    "        print(index,\" ra0=\",ra0,\" dec0=\",dec0)\n",
    "    \n",
    "    df0.drop(index,inplace=True) # erase one by one \n",
    "        \n",
    "    df0[\"dist\"] = df0.apply(dist_row, axis=1)\n",
    "    \n",
    "    if index==0:\n",
    "        histo=np.histogram(df0[\"dist\"].values,bins=NBINS,range=(BINSTART,BINSTOP))[0]\n",
    "    else:\n",
    "        histo+=np.histogram(df0[\"dist\"].values,bins=NBINS,range=(BINSTART,BINSTOP))[0]"
   ]
  },
  {
   "cell_type": "code",
   "execution_count": 147,
   "metadata": {},
   "outputs": [],
   "source": [
    "NDD=histo"
   ]
  },
  {
   "cell_type": "code",
   "execution_count": 148,
   "metadata": {},
   "outputs": [
    {
     "data": {
      "text/plain": [
       "array([ 162,  447,  763, 1058, 1311, 1703, 1937, 2163, 2407, 2618, 2854,\n",
       "       3108, 3341, 3641, 3838, 4140, 4348, 4290, 4533, 4944, 4976, 5305,\n",
       "       5279, 5498, 5549, 5818, 5965, 5801, 6188, 6334, 6373, 6438, 6558,\n",
       "       6727, 6770, 6845, 6715, 6751, 6973, 7101, 7065, 7131, 7087, 7124,\n",
       "       7103, 7057, 7232, 7223, 6994, 6960, 7108, 7176, 7050, 7081, 7080,\n",
       "       6833, 6836, 6906, 6919, 6742, 6523, 6543, 6446, 6396, 6347, 6108,\n",
       "       5928, 5918, 5959, 5675, 5564, 5401, 5544, 5314, 5240, 5049, 4934,\n",
       "       4725, 4706, 4549, 4448, 4157, 4176, 3905, 3779, 3675, 3483, 3249,\n",
       "       3128, 3019, 2829, 2540, 2510, 2376, 2090, 1948, 1815, 1641, 1499,\n",
       "       1321, 1161, 1057, 1002,  821,  807,  690,  611,  625,  482,  473,\n",
       "        399,  366,  307,  274,  263,  238,  176,  188,  135,  114,  113,\n",
       "         74,   69,   61,   65,   43,   33,   31,   27,   15,   14,   12,\n",
       "          9,    7,    2,    0,    1,    1,    0,    0,    0,    0,    0,\n",
       "          0,    0,    0,    0,    0,    0,    0,    0,    0,    0,    0,\n",
       "          0,    0,    0,    0,    0,    0,    0,    0,    0,    0,    0,\n",
       "          0,    0,    0,    0,    0,    0,    0,    0,    0,    0,    0,\n",
       "          0,    0,    0,    0,    0,    0,    0,    0,    0,    0,    0,\n",
       "          0,    0,    0,    0,    0,    0,    0,    0,    0,    0,    0,\n",
       "          0,    0])"
      ]
     },
     "execution_count": 148,
     "metadata": {},
     "output_type": "execute_result"
    }
   ],
   "source": [
    "NDD"
   ]
  },
  {
   "cell_type": "code",
   "execution_count": 156,
   "metadata": {},
   "outputs": [],
   "source": [
    "filename_histo=string_date + \"_ndd.npy\"\n",
    "np.save(filename_histo, NDD)"
   ]
  },
  {
   "cell_type": "code",
   "execution_count": 154,
   "metadata": {},
   "outputs": [
    {
     "name": "stderr",
     "output_type": "stream",
     "text": [
      "/Users/dagoret/anaconda3/lib/python3.7/site-packages/ipykernel_launcher.py:12: UserWarning: Matplotlib is currently using module://ipykernel.pylab.backend_inline, which is a non-GUI backend, so cannot show the figure.\n",
      "  if sys.path[0] == '':\n"
     ]
    },
    {
     "data": {
      "image/png": "[encoded data removed]",
      "text/plain": [
       "<Figure size 864x432 with 1 Axes>"
      ]
     },
     "metadata": {
      "needs_background": "light"
     },
     "output_type": "display_data"
    }
   ],
   "source": [
    "fig, ax = plt.subplots()\n",
    "ax.bar(THETAS, NDD,facecolor=\"b\")\n",
    "#ax.set_yscale(\"log\")\n",
    "#ax.set_xscale(\"log\")\n",
    "ax.set_xlabel(\"$\\\\theta (deg)$\")\n",
    "ax.set_ylabel(\"$N_{DD}(\\\\theta)$\")\n",
    "ax.set_title(\"$N_{DD}(\\\\theta)$\")\n",
    "ax.grid()\n",
    "if FLAG_FIGFILE:\n",
    "    figname = string_date + \"_ndd.png\"\n",
    "    plt.savefig(figname)\n",
    "fig.show()"
   ]
  },
  {
   "cell_type": "code",
   "execution_count": null,
   "metadata": {},
   "outputs": [],
   "source": [
    "alert False"
   ]
  },
  {
   "cell_type": "markdown",
   "metadata": {},
   "source": [
    "## DR"
   ]
  },
  {
   "cell_type": "code",
   "execution_count": null,
   "metadata": {},
   "outputs": [],
   "source": [
    "# loop on each element in the original dataframe\n",
    "df2=df_n\n",
    "for index, row in df3.iterrows():\n",
    "    # isolate the current element\n",
    "    ra0 = row['ra']\n",
    "    dec0 = row['dec']\n",
    "        \n",
    "    df2[\"dist\"] = df2.apply(dist_row, axis=1)\n",
    "    if index==0:\n",
    "        histo=np.histogram(df2[\"dist\"].values,bins=NBINS,range=(BINSTART,BINSTOP))[0]\n",
    "    else:\n",
    "        histo+=np.histogram(df2[\"dist\"].values,bins=NBINS,range=(BINSTART,BINSTOP))[0]"
   ]
  },
  {
   "cell_type": "code",
   "execution_count": null,
   "metadata": {},
   "outputs": [],
   "source": [
    "NRR=histo"
   ]
  },
  {
   "cell_type": "code",
   "execution_count": null,
   "metadata": {},
   "outputs": [],
   "source": [
    "fig, ax = plt.subplots()\n",
    "ax.bar(THETAS, NRR,facecolor=\"b\")\n",
    "#ax.set_yscale(\"log\")\n",
    "#ax.set_xscale(\"log\")\n",
    "ax.set_xlabel(\"$\\\\theta (rad)$\")\n",
    "ax.set_ylabel(\"$N_{RR}(\\\\theta)$\")\n",
    "ax.set_title(\"$N_{RR}(\\\\theta)$\")\n",
    "ax.grid()\n",
    "if FLAG_FIGFILE:\n",
    "    figname = string_date + \"_nrr.png\"\n",
    "    plt.savefig(figname)\n",
    "fig.show()"
   ]
  }
 ],
 "metadata": {
  "kernelspec": {
   "display_name": "Python 3",
   "language": "python",
   "name": "python3"
  },
  "language_info": {
   "codemirror_mode": {
    "name": "ipython",
    "version": 3
   },
   "file_extension": ".py",
   "mimetype": "text/x-python",
   "name": "python",
   "nbconvert_exporter": "python",
   "pygments_lexer": "ipython3",
   "version": "3.7.6"
  },
  "toc": {
   "nav_menu": {},
   "number_sections": true,
   "sideBar": true,
   "skip_h1_title": false,
   "toc_cell": false,
   "toc_position": {},
   "toc_section_display": "block",
   "toc_window_display": false
  }
 },
 "nbformat": 4,
 "nbformat_minor": 4
}
